{
 "cells": [
  {
   "cell_type": "markdown",
   "id": "cb31dc20",
   "metadata": {},
   "source": [
    "#\n",
    "                           Assignment Questions\n",
    "\n",
    "Q1. Write a Python program to demonstrate multiple inheritance.\n",
    "1. Employee class has 3 data members EmployeeID, Gender (String), Salary and PerformanceRating(Out of 5) of type int. It has a get() function to get these details from the user.\n",
    "\n",
    "2. JoiningDetail class has a data member DateOfJoining of type Date and a function getDoJ to get the Date of joining of employees.\n",
    "\n",
    "3. Information Class uses the marks from Employee class and the DateOfJoining date from the JoiningDetail class to calculate the top 3 Employees based on their Ratings and then Display, using readData, all the details on these employees in Ascending order of their Date Of Joining.\n",
    "\n",
    "#\n"
   ]
  },
  {
   "cell_type": "code",
   "execution_count": 1,
   "id": "31302e67",
   "metadata": {},
   "outputs": [
    {
     "name": "stdout",
     "output_type": "stream",
     "text": [
      "Enter Employee ID: 340\n",
      "Enter Gender: Male\n",
      "Enter Salary: 45000\n",
      "Enter Performance Rating (out of 5): 4\n",
      "Enter joining year: 2003\n",
      "Enter joining month: 03\n",
      "Enter joining day: 24\n",
      "Enter Employee ID: 403\n",
      "Enter Gender: Female\n",
      "Enter Salary: 34000\n",
      "Enter Performance Rating (out of 5): 3\n",
      "Enter joining year: 2005\n",
      "Enter joining month: 05\n",
      "Enter joining day: 29\n",
      "Enter Employee ID: 409\n",
      "Enter Gender: Male\n",
      "Enter Salary: 56000\n",
      "Enter Performance Rating (out of 5): 5\n",
      "Enter joining year: 1999\n",
      "Enter joining month: 5\n",
      "Enter joining day: 1\n",
      "\n",
      "Top 3 Employees:\n",
      "Employee ID: 409\n",
      "Gender: Male\n",
      "Salary: 56000.0\n",
      "Performance Rating: 5\n",
      "Date of Joining: 1999-05-01\n",
      "\n",
      "Employee ID: 340\n",
      "Gender: Male\n",
      "Salary: 45000.0\n",
      "Performance Rating: 4\n",
      "Date of Joining: 2003-03-24\n",
      "\n",
      "Employee ID: 403\n",
      "Gender: Female\n",
      "Salary: 34000.0\n",
      "Performance Rating: 3\n",
      "Date of Joining: 2005-05-29\n",
      "\n"
     ]
    }
   ],
   "source": [
    "from datetime import date\n",
    "\n",
    "class Employee:\n",
    "    def __init__(self):\n",
    "        self.EmployeeID = 0\n",
    "        self.Gender = \"\"\n",
    "        self.Salary = 0\n",
    "        self.PerformanceRating = 0\n",
    "\n",
    "    def get(self):\n",
    "        self.EmployeeID = int(input(\"Enter Employee ID: \"))\n",
    "        self.Gender = input(\"Enter Gender: \")\n",
    "        self.Salary = float(input(\"Enter Salary: \"))\n",
    "        self.PerformanceRating = int(input(\"Enter Performance Rating (out of 5): \"))\n",
    "\n",
    "class JoiningDetail:\n",
    "    def __init__(self):\n",
    "        self.DateOfJoining = date.today()\n",
    "\n",
    "    def getDoJ(self):\n",
    "        year = int(input(\"Enter joining year: \"))\n",
    "        month = int(input(\"Enter joining month: \"))\n",
    "        day = int(input(\"Enter joining day: \"))\n",
    "        self.DateOfJoining = date(year, month, day)\n",
    "\n",
    "class Information(Employee, JoiningDetail):\n",
    "    def __init__(self):\n",
    "        Employee.__init__(self)\n",
    "        JoiningDetail.__init__(self)\n",
    "\n",
    "    def readData(self):\n",
    "        employees = []\n",
    "        for _ in range(3):\n",
    "            emp = Information()\n",
    "            emp.get()\n",
    "            emp.getDoJ()\n",
    "            employees.append(emp)\n",
    "\n",
    "        # Sort employees based on PerformanceRating in descending order\n",
    "        employees.sort(key=lambda x: x.PerformanceRating, reverse=True)\n",
    "\n",
    "        # Sort employees based on DateOfJoining in ascending order\n",
    "        employees.sort(key=lambda x: x.DateOfJoining)\n",
    "\n",
    "        # Display top 3 employees\n",
    "        print(\"\\nTop 3 Employees:\")\n",
    "        for emp in employees[:3]:\n",
    "            print(f\"Employee ID: {emp.EmployeeID}\")\n",
    "            print(f\"Gender: {emp.Gender}\")\n",
    "            print(f\"Salary: {emp.Salary}\")\n",
    "            print(f\"Performance Rating: {emp.PerformanceRating}\")\n",
    "            print(f\"Date of Joining: {emp.DateOfJoining}\\n\")\n",
    "\n",
    "# Create an Information object and call the readData method\n",
    "info = Information()\n",
    "info.readData()\n"
   ]
  },
  {
   "cell_type": "markdown",
   "id": "5dcd30f8",
   "metadata": {},
   "source": [
    "#\n",
    "Q.2 Write a Python program to demonstrate Polymorphism.\n",
    "1. Class Vehicle with a parameterized function Fare, that takes input value as fare and\n",
    "returns it to calling Objects.\n",
    "2. Create five separate variables Bus, Car, Train, Truck and Ship that call the Fare\n",
    "function.\n",
    "3. Use a third variable TotalFare to store the sum of fare for each Vehicle Type.\n",
    "4. Print the TotalFare.\n",
    "#"
   ]
  },
  {
   "cell_type": "code",
   "execution_count": 3,
   "id": "ef35a0af",
   "metadata": {},
   "outputs": [
    {
     "name": "stdout",
     "output_type": "stream",
     "text": [
      "Total Fare for all vehicles: 610\n"
     ]
    }
   ],
   "source": [
    "class Vehicle:\n",
    "    def __init__(self,fare):\n",
    "        self.fare=fare\n",
    "    def Fare(self):\n",
    "        return self.fare\n",
    "    \n",
    "bus ,car, train, truck, ship = Vehicle(50),Vehicle(100),Vehicle(150),Vehicle(120),Vehicle(190),\n",
    "vehicles = [bus,car,train,truck,ship]\n",
    "\n",
    "TotalFare = 0\n",
    "for v in vehicles:\n",
    "    TotalFare += v.Fare()\n",
    "    \n",
    "print(\"Total Fare for all vehicles:\", TotalFare)"
   ]
  },
  {
   "cell_type": "markdown",
   "id": "048f3e90",
   "metadata": {},
   "source": [
    "#\n",
    "\n",
    "Q3. Consider an ongoing test cricket series. Following are the names of the players and their\n",
    "scores in the test1 and 2.\n",
    "\n",
    "Test Match 1 :\n",
    "Dhoni : 56 , Balaji : 94\n",
    "\n",
    "Test Match 2 :\n",
    "Balaji : 80 , Dravid : 105\n",
    "Calculate the highest number of runs scored by an individual cricketer in both of the matches.\n",
    "Create a python function Max_Score (M) that reads a dictionary M that recognizes the player with the highest total score. This function will return ( Top player , Total Score ) . You can consider the Top player as String who is the highest scorer and Top score as Integer .\n",
    "\n",
    "Input : Max_Score({‘test1’:{‘Dhoni’:56, ‘Balaji : 85}, ‘test2’:{‘Dhoni’ 87, ‘Balaji’’:200}})\n",
    "Output : (‘Balaji ‘ , 200)\n",
    "\n",
    "#"
   ]
  },
  {
   "cell_type": "code",
   "execution_count": 13,
   "id": "98811dad",
   "metadata": {},
   "outputs": [
    {
     "name": "stdout",
     "output_type": "stream",
     "text": [
      "('Balaji', 200)\n"
     ]
    }
   ],
   "source": [
    "def Max_Score(M):\n",
    "    max_score = 0\n",
    "    top_player= \"\"\n",
    "    \n",
    "    for test_match, scores in M.items():\n",
    "        for player, score in scores.items():\n",
    "            if score > max_score:\n",
    "                max_score =score\n",
    "                top_player = player\n",
    "                \n",
    "    return(top_player,max_score)\n",
    "\n",
    "\n",
    "M ={'test1':{'Dhoni':56, 'Balaji' : 85}, 'test2':{'Dhoni' : 87, 'Balaji':200}}\n",
    "print(Max_Score(M))"
   ]
  },
  {
   "cell_type": "markdown",
   "id": "e84565ec",
   "metadata": {},
   "source": [
    "#\n",
    "Q4. Create a simple Card game in which there are 8 cards which are randomly chosen from a\n",
    "deck. The first card is shown face up. The game asks the player to predict whether the next card\n",
    "in the selection will have a higher or lower value than the currently showing card.\n",
    "\n",
    "For example, say the card that’s shown is a 3. The player chooses “higher,” and the next card is\n",
    "shown. If that card has a higher value, the player is correct. In this example, if the player had\n",
    "chosen “lower,” they would have been incorrect. If the player guesses correctly, they get 20\n",
    "points. If they choose incorrectly, they lose 15 points. If the next card to be turned over has the\n",
    "same value as the previous card, the player is incorrect.\n",
    "\n",
    "#"
   ]
  },
  {
   "cell_type": "code",
   "execution_count": 6,
   "id": "df7d8816",
   "metadata": {},
   "outputs": [
    {
     "name": "stdout",
     "output_type": "stream",
     "text": [
      "Enter the number of cards you want to play with: 8\n",
      "First Card: ('9', 'Clubs')\n",
      "Predict whether the next card will be higher or lower (h/l): h\n",
      "Next card: ('5', 'Clubs')\n",
      "Incorrect guess! You lose 15 points.\n",
      "Total Points: -15\n",
      "Predict whether the next card will be higher or lower (h/l): ;\n",
      "Next card: ('King', 'Spades')\n",
      "Incorrect guess! You lose 15 points.\n",
      "Total Points: -30\n",
      "Predict whether the next card will be higher or lower (h/l): h\n",
      "Next card: ('3', 'Spades')\n",
      "Incorrect guess! You lose 15 points.\n",
      "Total Points: -45\n",
      "Predict whether the next card will be higher or lower (h/l): l\n",
      "Next card: ('5', 'Spades')\n",
      "Incorrect guess! You lose 15 points.\n",
      "Total Points: -60\n",
      "Predict whether the next card will be higher or lower (h/l): h\n",
      "Next card: ('Jack', 'Hearts')\n",
      "Correct guess! You gain 20 points.\n",
      "Total Points: -40\n",
      "Predict whether the next card will be higher or lower (h/l): l\n",
      "Next card: ('3', 'Clubs')\n",
      "Correct guess! You gain 20 points.\n",
      "Total Points: -20\n",
      "Predict whether the next card will be higher or lower (h/l): h\n",
      "Next card: ('Ace', 'Spades')\n",
      "Correct guess! You gain 20 points.\n",
      "Total Points: 0\n",
      "Your final score is: 0\n"
     ]
    }
   ],
   "source": [
    "import random\n",
    "\n",
    "class CardGame:\n",
    "    def __init__(self):\n",
    "        self.deck = []\n",
    "        self.points = 0\n",
    "        self.current_card = None\n",
    "        \n",
    "    def generate_deck(self, num_cards):\n",
    "        suits = ['Hearts', 'Diamonds', 'Clubs', 'Spades']\n",
    "        values = ['2', '3', '4', '5', '6', '7', '8', '9', '10', 'Jack', 'Queen', 'King', 'Ace']\n",
    "        deck = [(value, suit) for suit in suits for value in values]\n",
    "        random.shuffle(deck)\n",
    "        return deck[:num_cards]  \n",
    "        \n",
    "    def get_card_value(self, card):\n",
    "        values = ['2', '3', '4', '5', '6', '7', '8', '9', '10', 'Jack', 'Queen', 'King', 'Ace']\n",
    "        return values.index(card[0]) + 2\n",
    "    \n",
    "    def play(self):\n",
    "        num_cards = int(input(\"Enter the number of cards you want to play with: \"))\n",
    "        self.deck = self.generate_deck(num_cards)\n",
    "        self.current_card = self.deck.pop(0)\n",
    "        print(f\"First Card: {self.current_card}\")\n",
    "        \n",
    "        while len(self.deck) > 0:\n",
    "            guess = input(\"Predict whether the next card will be higher or lower (h/l): \").lower()\n",
    "            next_card = self.deck.pop(0)\n",
    "            print(f\"Next card: {next_card}\")\n",
    "            \n",
    "            current_value = self.get_card_value(self.current_card)\n",
    "            next_value = self.get_card_value(next_card)\n",
    "            \n",
    "            if next_value == current_value:\n",
    "                print(\"The value of both cards is the same.\")\n",
    "                self.points -= 15\n",
    "            elif (next_value > current_value and guess == 'h') or (next_value < current_value and guess == 'l'):\n",
    "                print(\"Correct guess! You gain 20 points.\")\n",
    "                self.points += 20\n",
    "            else:\n",
    "                print(\"Incorrect guess! You lose 15 points.\")\n",
    "                self.points -= 15\n",
    "                \n",
    "            print(f\"Total Points: {self.points}\")\n",
    "            self.current_card = next_card\n",
    "         \n",
    "        print(f\"Your final score is: {self.points}\")\n",
    "                  \n",
    "                  \n",
    "game = CardGame()\n",
    "game.play()\n"
   ]
  },
  {
   "cell_type": "markdown",
   "id": "7814f8ce",
   "metadata": {},
   "source": [
    "##\n",
    "Q5. Create an empty dictionary called Car_0 . Then fill the dictionary with Keys : color , speed\n",
    ", X_position and Y_position.\n",
    "\n",
    "car_0 = {'x_position': 10, 'y_position': 72, 'speed': 'medium'} .\n",
    "\n",
    "a) If the speed is slow the coordinates of the X_pos get incremented by 2.\n",
    "\n",
    "b) If the speed is Medium the coordinates of the X_pos gets incremented by 9\n",
    "\n",
    "c) Now if the speed is Fast the coordinates of the X_pos gets incremented by 22.\n",
    "\n",
    "Print the modified dictionary.\n",
    "\n",
    "##"
   ]
  },
  {
   "cell_type": "code",
   "execution_count": 8,
   "id": "e90c6e95",
   "metadata": {},
   "outputs": [
    {
     "name": "stdout",
     "output_type": "stream",
     "text": [
      "\n",
      " Modified Dictionary:  {'x_position': 19, 'y_position': 72, 'speed': 'medium', 'color': 'red'}\n"
     ]
    }
   ],
   "source": [
    "Car_0 ={}\n",
    "Car_0['x_position']= 10\n",
    "Car_0['y_position']= 72\n",
    "Car_0['speed']= 'medium'\n",
    "Car_0['color']= 'red'\n",
    "if Car_0['speed'] == 'slow':\n",
    "    Car_0['x_position'] += 2\n",
    "elif Car_0['speed'] == 'medium':\n",
    "    Car_0['x_position'] += 9\n",
    "elif Car_0['speed'] == 'Fast':\n",
    "    Car_0['x_position'] += 22\n",
    "    \n",
    "print(f'\\n Modified Dictionary: ',(Car_0))\n",
    "    "
   ]
  },
  {
   "cell_type": "markdown",
   "id": "8697c222",
   "metadata": {},
   "source": [
    "##\n",
    "Q6. Show a basic implementation of abstraction in python using the abstract classes.\n",
    "1. Create an abstract class in python.\n",
    "\n",
    "2. Implement abstraction with the other classes and base class as abstract class.\n",
    "##"
   ]
  },
  {
   "cell_type": "code",
   "execution_count": 12,
   "id": "3ee12d27",
   "metadata": {},
   "outputs": [
    {
     "name": "stdout",
     "output_type": "stream",
     "text": [
      "Rectangle Area: 20\n",
      "Rectangle Perimeter: 18\n",
      "Circle Area: 28.26\n",
      "Circle Perimeter: 18.84\n"
     ]
    }
   ],
   "source": [
    "from abc import ABC, abstractmethod\n",
    "\n",
    "class Shape(ABC):\n",
    "    @abstractmethod\n",
    "    def area(self):\n",
    "        pass\n",
    "    \n",
    "    @abstractmethod\n",
    "    def perimeter(self):\n",
    "        pass\n",
    "\n",
    "class Rectangle(Shape):\n",
    "    def __init__(self,length,width):\n",
    "        self.length = length\n",
    "        self.width = width\n",
    "        \n",
    "    def area(self):\n",
    "        return self.length * self.width\n",
    "    def perimeter(self):\n",
    "        return 2*(self.length + self.width)\n",
    "class Circle(Shape):\n",
    "    def __init__(self,radius):\n",
    "        self.radius = radius\n",
    "        \n",
    "    def area(self):\n",
    "        return 3.14*self.radius**2\n",
    "    def perimeter(self):\n",
    "        return 2*3.14*self.radius\n",
    "\n",
    "rectangle = Rectangle(5,4)\n",
    "circle = Circle(3)\n",
    "    \n",
    "print(\"Rectangle Area:\", rectangle.area())\n",
    "print(\"Rectangle Perimeter:\", rectangle.perimeter())\n",
    "print(\"Circle Area:\", circle.area())\n",
    "print(\"Circle Perimeter:\", circle.perimeter())"
   ]
  },
  {
   "cell_type": "markdown",
   "id": "6b06f363",
   "metadata": {},
   "source": [
    "##\n",
    "\n",
    "Q7. Create a program in python to demonstrate Polymorphism.\n",
    "1. Make use of private and protected members using python name mangling techniques.\n",
    "##"
   ]
  },
  {
   "cell_type": "code",
   "execution_count": 14,
   "id": "6797f616",
   "metadata": {
    "scrolled": true
   },
   "outputs": [
    {
     "name": "stdout",
     "output_type": "stream",
     "text": [
      "The Area of Square is 25\n",
      "The Area of Circle is 28.26\n"
     ]
    }
   ],
   "source": [
    "class Shape():\n",
    "    def __init__(self, name):\n",
    "        self.__name= name # Private attribute\n",
    "        \n",
    "    def get_name(self):\n",
    "        return self.__name\n",
    "    def area(self):\n",
    "        pass\n",
    "\n",
    "class Square(Shape):\n",
    "    def __init__(self,side_length):\n",
    "        super().__init__(\"Square\")\n",
    "        self._side_length = side_length # Protected attribute\n",
    "        \n",
    "    def area(self):\n",
    "        return self._side_length**2\n",
    "    \n",
    "class Circle(Shape):\n",
    "    def __init__(self, radius):\n",
    "        super().__init__(\"Circle\")\n",
    "        self._radius = radius \n",
    "        \n",
    "    def area(self):\n",
    "        return 3.14 * self._radius ** 2\n",
    "    \n",
    "# Polymorphic Function\n",
    "def print_area(shape):\n",
    "    print(f\"The Area of {shape.get_name()} is {shape.area()}\")\n",
    "    \n",
    "# Create Instances\n",
    "square = Square(5)\n",
    "circle = Circle(3)\n",
    "          \n",
    "print_area(square)\n",
    "print_area(circle)"
   ]
  },
  {
   "cell_type": "markdown",
   "id": "3fecec7e",
   "metadata": {},
   "source": [
    "##\n",
    "\n",
    "Given a list of 50 natural numbers from 1-50. Create a function that will take every element\n",
    "from the list and return the square of each element. Use the python map and filter methods to\n",
    "implement the function on the given list\n",
    "\n",
    "##\n"
   ]
  },
  {
   "cell_type": "code",
   "execution_count": 22,
   "id": "2f5cafd6",
   "metadata": {},
   "outputs": [
    {
     "name": "stdout",
     "output_type": "stream",
     "text": [
      "[0, 1, 2, 3, 4, 5, 6, 7, 8, 9, 10, 11, 12, 13, 14, 15, 16, 17, 18, 19, 20, 21, 22, 23, 24, 25, 26, 27, 28, 29, 30, 31, 32, 33, 34, 35, 36, 37, 38, 39, 40, 41, 42, 43, 44, 45, 46, 47, 48, 49]\n",
      "Square Of List \n",
      "  [0, 1, 4, 9, 16, 25, 36, 49, 64, 81, 100, 121, 144, 169, 196, 225, 256, 289, 324, 361, 400, 441, 484, 529, 576, 625, 676, 729, 784, 841, 900, 961, 1024, 1089, 1156, 1225, 1296, 1369, 1444, 1521, 1600, 1681, 1764, 1849, 1936, 2025, 2116, 2209, 2304, 2401]\n"
     ]
    }
   ],
   "source": [
    "def square(x):\n",
    "    return x**2\n",
    "\n",
    "List =list(range(0,50))\n",
    "\n",
    "Squared_List = list(map(square, List))\n",
    "\n",
    "print(List)\n",
    "\n",
    "print(f'Square Of List \\n  {Squared_List}')"
   ]
  },
  {
   "cell_type": "markdown",
   "id": "45ce096f",
   "metadata": {},
   "source": [
    "##\n",
    "\n",
    "Q9. Create a class, Triangle. Its init() method should take self, angle1, angle2, and angle3 as\n",
    "arguments.\n",
    "\n",
    "Q10. Create a class variable named number_of_sides and set it equal to 3.\n",
    "\n",
    "Q11. Create a method named check_angles. The sum of a triangle's three angles should return\n",
    "True if the sum is equal to 180, and False otherwise. The method should print whether the\n",
    "angles belong to a triangle or not.\n",
    "\n",
    "11.1 Write methods to verify if the triangle is an acute triangle or obtuse triangle.\n",
    "\n",
    "11.2 Create an instance of the triangle class and call all the defined methods.\n",
    "\n",
    "\n",
    "\n",
    "\n",
    "##"
   ]
  },
  {
   "cell_type": "code",
   "execution_count": 34,
   "id": "899623c7",
   "metadata": {},
   "outputs": [
    {
     "name": "stdout",
     "output_type": "stream",
     "text": [
      "The angles belong to a triangle.\n",
      "The triangle is an acute triangle.\n",
      "The triangle is not an obtuse triangle.\n"
     ]
    },
    {
     "data": {
      "text/plain": [
       "False"
      ]
     },
     "execution_count": 34,
     "metadata": {},
     "output_type": "execute_result"
    }
   ],
   "source": [
    "class Triangle:\n",
    "    number_of_sides = 3\n",
    "    def __init__(self, angle1, angle2, angle3):\n",
    "        self.angle1 = angle1\n",
    "        self.angle2 = angle2\n",
    "        self.angle3 = angle3\n",
    "    \n",
    "    def check_angles(self):\n",
    "        if self.angle1 + self.angle2 + self.angle3 == 180:\n",
    "            print(\"The angles belong to a triangle.\")\n",
    "            return True\n",
    "        else:\n",
    "            print(\"The angles do not belong to a triangle.\")\n",
    "            return False\n",
    "    \n",
    "    def is_acute_triangle(self):\n",
    "        if self.angle1 < 90 and self.angle2 < 90 and self.angle3 < 90:\n",
    "            print(\"The triangle is an acute triangle.\")\n",
    "            return True\n",
    "        else:\n",
    "            print(\"The triangle is not an acute triangle.\")\n",
    "            return False\n",
    "    \n",
    "    def is_obtuse_triangle(self):\n",
    "        if self.angle1 > 90 or self.angle2 > 90 or self.angle3 > 90:\n",
    "            print(\"The triangle is an obtuse triangle.\")\n",
    "            return True\n",
    "        else:\n",
    "            print(\"The triangle is not an obtuse triangle.\")\n",
    "            return False\n",
    "        \n",
    "# Create an instance of Triangle\n",
    "triangle = Triangle(60, 60, 60)\n",
    "\n",
    "# Call the methods\n",
    "triangle.check_angles()\n",
    "triangle.is_acute_triangle()\n",
    "triangle.is_obtuse_triangle()\n",
    "\n"
   ]
  },
  {
   "cell_type": "markdown",
   "id": "7a3c4db6",
   "metadata": {},
   "source": [
    "##\n",
    "11.3 Create three child classes of triangle class - isosceles_triangle, right_triangle and\n",
    "equilateral_triangle.\n",
    "\n",
    "11.4 Define methods which check for their properties.\n",
    "\n"
   ]
  },
  {
   "cell_type": "code",
   "execution_count": 35,
   "id": "db6c81c2",
   "metadata": {},
   "outputs": [],
   "source": [
    "class IsoscelesTriangle(Triangle):\n",
    "    def has_two_equal_angles(self):\n",
    "        return self.angle1 == self.angle2 or self.angle2 == self.angle3 or self.angle3 == self.angle1\n",
    "\n",
    "class RightTriangle(Triangle):\n",
    "    def has_right_angle(self):\n",
    "        return self.angle1 == 90 or self.angle2 == 90 or self.angle3 == 90\n",
    "\n",
    "class EquilateralTriangle(Triangle):\n",
    "    def has_equal_angles(self):\n",
    "        return self.angle1 == self.angle2 == self.angle3\n"
   ]
  },
  {
   "cell_type": "markdown",
   "id": "ae69ad7d",
   "metadata": {},
   "source": [
    "##\n",
    "Q12. Create a class isosceles_right_triangle which inherits from isosceles_triangle and\n",
    "right_triangle."
   ]
  },
  {
   "cell_type": "code",
   "execution_count": 36,
   "id": "543df46d",
   "metadata": {},
   "outputs": [],
   "source": [
    "class IsoscelesRightTriangle(IsoscelesTriangle, RightTriangle):\n",
    "    def is_right_and_isosceles(self):\n",
    "        return self.has_right_angle() and self.has_two_equal_angles()\n"
   ]
  },
  {
   "cell_type": "markdown",
   "id": "43f6fe22",
   "metadata": {},
   "source": [
    "##\n",
    "12.1 Define methods which check for their properties"
   ]
  },
  {
   "cell_type": "code",
   "execution_count": 39,
   "id": "0ae3186e",
   "metadata": {},
   "outputs": [
    {
     "name": "stdout",
     "output_type": "stream",
     "text": [
      "Isosceles Triangle:\n",
      "Has two equal angles? True\n",
      "\n",
      "Right Triangle:\n",
      "Has a right angle? True\n",
      "\n",
      "Equilateral Triangle:\n",
      "Has equal angles? True\n",
      "\n",
      "Isosceles Right Triangle:\n",
      "Is both right and isosceles? True\n"
     ]
    }
   ],
   "source": [
    "# Create instances of the child classes\n",
    "isosceles_triangle = IsoscelesTriangle(60, 60, 60)\n",
    "right_triangle = RightTriangle(90, 45, 45)\n",
    "equilateral_triangle = EquilateralTriangle(60, 60, 60)\n",
    "isosceles_right_triangle = IsoscelesRightTriangle(90, 45, 45)\n",
    "\n",
    "# Call the methods\n",
    "print(\"Isosceles Triangle:\")\n",
    "print(\"Has two equal angles?\", isosceles_triangle.has_two_equal_angles())\n",
    "\n",
    "print(\"\\nRight Triangle:\")\n",
    "print(\"Has a right angle?\", right_triangle.has_right_angle())\n",
    "\n",
    "print(\"\\nEquilateral Triangle:\")\n",
    "print(\"Has equal angles?\", equilateral_triangle.has_equal_angles())\n",
    "\n",
    "print(\"\\nIsosceles Right Triangle:\")\n",
    "print(\"Is both right and isosceles?\", isosceles_right_triangle.is_right_and_isosceles())\n"
   ]
  },
  {
   "cell_type": "code",
   "execution_count": null,
   "id": "94e32c07",
   "metadata": {},
   "outputs": [],
   "source": []
  }
 ],
 "metadata": {
  "kernelspec": {
   "display_name": "Python 3 (ipykernel)",
   "language": "python",
   "name": "python3"
  },
  "language_info": {
   "codemirror_mode": {
    "name": "ipython",
    "version": 3
   },
   "file_extension": ".py",
   "mimetype": "text/x-python",
   "name": "python",
   "nbconvert_exporter": "python",
   "pygments_lexer": "ipython3",
   "version": "3.11.5"
  }
 },
 "nbformat": 4,
 "nbformat_minor": 5
}
