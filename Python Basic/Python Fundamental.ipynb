{
 "cells": [
  {
   "cell_type": "markdown",
   "id": "911284fc",
   "metadata": {},
   "source": [
    "### Python Fundamental Assignment"
   ]
  },
  {
   "cell_type": "markdown",
   "id": "f5c66d35",
   "metadata": {},
   "source": [
    "#  Assignment 1\n",
    "problem Statement:\n",
    "You work in XYZ Corporation as a Data Analyst. Your company has told you to\n",
    "work with the if-else condition.\n",
    "Tasks To Be Performed:\n",
    "1. Input the values of a and b as 10 and 20 respectively. Now check if a is\n",
    "greater or b is greater using if condition. Think about all the edge cases,\n",
    "and print the statements accordingly.\n",
    "#\n",
    "\n"
   ]
  },
  {
   "cell_type": "code",
   "execution_count": 10,
   "id": "542fb803",
   "metadata": {},
   "outputs": [
    {
     "name": "stdout",
     "output_type": "stream",
     "text": [
      "a is smaller than b\n"
     ]
    }
   ],
   "source": [
    "a = 10\n",
    "b = 20\n",
    "if a > b:\n",
    "    print(\"a is greater than b\")\n",
    "elif a < b:\n",
    "    print (\"a is smaller than b\")\n",
    "else:\n",
    "    print(\"a is equal to b\")\n",
    "    "
   ]
  },
  {
   "cell_type": "markdown",
   "id": "a90cf65e",
   "metadata": {},
   "source": [
    "# Assignment 2\n",
    "Problem Statement:\n",
    "You work in XYZ Corporation as a Data Analyst. Your company has told you to\n",
    "work with the if-else condition.\n",
    "Tasks To Be Performed:\n",
    "1. Take three user inputs and print the greatest number from those inputs\n",
    "using if-else condition. Edge cases, if any, should also be handeled\n",
    "#"
   ]
  },
  {
   "cell_type": "code",
   "execution_count": 11,
   "id": "69213dfc",
   "metadata": {
    "tags": []
   },
   "outputs": [
    {
     "name": "stdin",
     "output_type": "stream",
     "text": [
      "number1 24\n",
      "number2 55\n",
      "number3 44\n"
     ]
    },
    {
     "name": "stdout",
     "output_type": "stream",
     "text": [
      "the greatest Number b: 55\n"
     ]
    }
   ],
   "source": [
    "a = int(input(\"number1\"))\n",
    "b = int(input(\"number2\"))\n",
    "c = int(input(\"number3\"))\n",
    "if a > b and a > c:\n",
    "    print(\"the greatest Number is a :\", a)\n",
    "elif b > c and b > a:\n",
    "    print (\"the greatest Number b:\", b)\n",
    "else:\n",
    "    print(\"the greatest number c:\", c)\n"
   ]
  },
  {
   "cell_type": "markdown",
   "id": "331db0e4-fec2-4459-960d-cf1c3f88613e",
   "metadata": {},
   "source": [
    "# Assignment 3\n",
    "You work in XYZ Corporation as a Data Analyst. Your company has told you to\n",
    "work with the looping statements.\n",
    "\n",
    "Tasks To Be Performed:\n",
    "1 Print the numbers from 1 to 10 using while loop.\n",
    "\n",
    "#\n"
   ]
  },
  {
   "cell_type": "code",
   "execution_count": 14,
   "id": "080d613e-95ab-4440-8c6b-67700dfa7abd",
   "metadata": {
    "tags": []
   },
   "outputs": [
    {
     "name": "stdout",
     "output_type": "stream",
     "text": [
      "1\n",
      "2\n",
      "3\n",
      "4\n",
      "5\n",
      "6\n",
      "7\n",
      "8\n",
      "9\n"
     ]
    }
   ],
   "source": [
    " num = 1\n",
    "while num < 10:\n",
    "    print(num)\n",
    "    num += 1\n",
    "\n"
   ]
  },
  {
   "cell_type": "markdown",
   "id": "e249cd98-baaf-490f-b209-5f76bbf86d4c",
   "metadata": {},
   "source": [
    "# Assignment 4 \n",
    "Problem Statement:\n",
    "You work in XYZ Corporation as a Data Analyst. Your company has told you to\n",
    "work with the looping statements.\n",
    "Tasks To Be Performed:\n",
    "1.Create a list that has 10, 23, 4, 26, 4, 75, 24, 54 values and with the help\n",
    "of while loop fetch the even numbers and print the numbers.\n",
    "\n",
    "#\n"
   ]
  },
  {
   "cell_type": "code",
   "execution_count": 24,
   "id": "f72b0aa9-bc8f-4e94-9ebb-680b1ca0e868",
   "metadata": {
    "tags": []
   },
   "outputs": [
    {
     "name": "stdout",
     "output_type": "stream",
     "text": [
      "10\n",
      "4\n",
      "26\n",
      "4\n",
      "24\n",
      "54\n"
     ]
    }
   ],
   "source": [
    "List = [ 10, 23, 4, 26, 4, 75, 24, 54]\n",
    "index = 0\n",
    "while index < len(List):\n",
    "    if List[index]  % 2 == 0:\n",
    "          print(List[index])\n",
    "    index += 1\n",
    "    \n",
    "\n"
   ]
  },
  {
   "cell_type": "markdown",
   "id": "1d9e197a-6594-48e1-ae25-52c1f9fbcef2",
   "metadata": {},
   "source": [
    "## Case Study - 1\n",
    "Problem Statement:\n",
    "Consider yourself to be Sam who is a data scientist. He has been invited as a\n",
    "guest lecturer at a college to take an introductory session on Python.\n",
    "Tasks To Be Performed:\n",
    "1.Create a list containing squares of numbers from 1 to 10 (HINT: use List\n",
    "Comprehension).\n",
    "\n",
    "2.Write a function to check if the year number is a leap year.\n",
    "\n",
    "3 Write a function to take an array and return another array that contains the\n",
    "members of the first array that are even.\n",
    "\n",
    "4.Write a function that takes 2 arrays and prints the members of the first\n",
    "array that are present in the second array. (HINT: use Membership\n",
    "Comprehension)\n",
    "\n",
    "##\n"
   ]
  },
  {
   "cell_type": "code",
   "execution_count": 25,
   "id": "ae7706cc-afa6-4790-93de-1aecb86ab358",
   "metadata": {
    "tags": []
   },
   "outputs": [
    {
     "name": "stdout",
     "output_type": "stream",
     "text": [
      "Square of number from 1 to 10: [1, 4, 9, 16, 25, 36, 49, 64, 81, 100]\n"
     ]
    }
   ],
   "source": [
    "## Task 1\n",
    "squares = [ i**2 for i in range(1, 11)]\n",
    "print(\"Square of number from 1 to 10:\", squares)"
   ]
  },
  {
   "cell_type": "code",
   "execution_count": 43,
   "id": "f8ad7587-9594-4e45-b8ab-fafd645e6d9c",
   "metadata": {
    "tags": []
   },
   "outputs": [
    {
     "data": {
      "text/plain": [
       "'Leap Year'"
      ]
     },
     "execution_count": 43,
     "metadata": {},
     "output_type": "execute_result"
    }
   ],
   "source": [
    "## Task 2\n",
    "def check_leap_year(year):\n",
    "    if year % 4 == 0 and (year % 100 != 0 or year % 400 ==0):\n",
    "        return \"Leap Year\"\n",
    "    else:\n",
    "        return \" Not A Leap Year\"\n",
    "    \n",
    "## Check\n",
    "check_leap_year(2044)\n"
   ]
  },
  {
   "cell_type": "code",
   "execution_count": 48,
   "id": "05fc8837-5271-4846-9272-cd0bbb99dade",
   "metadata": {
    "tags": []
   },
   "outputs": [
    {
     "data": {
      "text/plain": [
       "[2, 6, 4, 8, 6]"
      ]
     },
     "execution_count": 48,
     "metadata": {},
     "output_type": "execute_result"
    }
   ],
   "source": [
    "## Task 3\n",
    "def find_even_numbers(arr):\n",
    "    return[num for num in arr if num % 2 == 0]\n",
    "\n",
    "## Check\n",
    "find_even_numbers([3,2,5,6,4,8,13,6])\n"
   ]
  },
  {
   "cell_type": "code",
   "execution_count": 51,
   "id": "33111ed8-5e77-4c79-851a-e0196829f5be",
   "metadata": {
    "tags": []
   },
   "outputs": [
    {
     "name": "stdout",
     "output_type": "stream",
     "text": [
      "Common Values: [2, 4, 5, 6, 7]\n"
     ]
    }
   ],
   "source": [
    "## Task 4\n",
    "def comman_array_values(arr1, arr2):\n",
    "    common_values = [num for num in arr1 if num in arr2]\n",
    "    print(\"Common Values:\", common_values)\n",
    "    \n",
    "## Check \n",
    "comman_array_values([2,3,4,5,6,7,9],[6,2,5,4,7,8])\n",
    "    "
   ]
  },
  {
   "cell_type": "markdown",
   "id": "21167837-feef-4acd-98a2-ad66e66e1940",
   "metadata": {
    "tags": []
   },
   "source": [
    "## Case Study 2\n",
    "Problem Statement:\n",
    "Consider yourself to be Sam who is a data scientist. He has been invited as a\n",
    "guest lecturer at a college to take an introductory session on Python.\n",
    "Tasks To Be Performed:\n",
    "1. Create 1st tuple with values -> (10, 20, 30), 2nd tuple with values -> (40,\n",
    "50, 60):\n",
    "a. Concatenate the two tuples and store it in “t_combine”\n",
    "b. Repeat the elements of “t_combine” 3 times\n",
    "c. Access the 3rd element from “t_combine”\n",
    "d. Access the first three elements from “t_combine”\n",
    "e. Access the last three elements from “t_combine”\n",
    "2. Create a list ‘my_list’ with these elements:\n",
    "a. First element is a tuple with values 1, 2, 3\n",
    "b. Second element is a tuple with values “a”, “b”, “c”\n",
    "c. Third element is a tuple with values True, False\n",
    "3. Append a new tuple – (1, ‘a’, True) to ‘my_list’:\n",
    "a. Append a new list – *“sparta”, 123+ to my_list\n",
    "4. Create a dictionary ‘fruit’ where:\n",
    "a. The first key is ‘Fruit’ and the values are (“Apple”, “Banana”, “Mango”,\n",
    "“Guava”)\n",
    "b. The second key is ‘Cost’ and the values are (85, 54, 120, 70)\n",
    "c. Extract all the keys from ‘fruit’\n",
    "d. Extract all the values from ‘fruit’\n",
    "5. Create a set named ‘my_set’ with values (1, 1, “a”, “a”, True, True) and\n",
    "print the result\n",
    "\n",
    "##"
   ]
  },
  {
   "cell_type": "code",
   "execution_count": 15,
   "id": "b1ef0751-acfa-4ca3-b398-89a43298d5cd",
   "metadata": {},
   "outputs": [
    {
     "name": "stdout",
     "output_type": "stream",
     "text": [
      "(10, 20, 30, 40, 50, 60)\n",
      "(10, 20, 30, 40, 50, 60, 10, 20, 30, 40, 50, 60, 10, 20, 30, 40, 50, 60)\n",
      "30\n",
      "(10, 20, 30)\n",
      "(40, 50, 60)\n"
     ]
    }
   ],
   "source": [
    "## Task 1\n",
    "first_tuple = (10,20,30)\n",
    "Second_tuple = (40,50,60)\n",
    "\n",
    "##  Concatenate the two tuples and store it in “t_combine”\n",
    "t_combine = first_tuple + Second_tuple\n",
    "print(t_combine)\n",
    "\n",
    "##  Repeat the elements of “t_combine” 3 times\n",
    "print(t_combine*3)\n",
    "\n",
    "## Access the 3rd element from “t_combine”\n",
    "print(t_combine[2])\n",
    "\n",
    "##Access the first three elements from “t_combine\"\n",
    "print(t_combine[:3])\n",
    "\n",
    "##Access the last three elements from “t_combine\"\n",
    "print(t_combine[-3:])"
   ]
  },
  {
   "cell_type": "code",
   "execution_count": 19,
   "id": "41518c74-8d3e-4e31-a7de-b15de8458f0a",
   "metadata": {
    "tags": []
   },
   "outputs": [],
   "source": [
    "## Task 2\n",
    "my_list = [(1,2,3),('a','b','c'),(True,False)]\n",
    "\n"
   ]
  },
  {
   "cell_type": "code",
   "execution_count": 26,
   "id": "97a4a425-b7af-4453-b660-52ebe0ccd0a1",
   "metadata": {
    "tags": []
   },
   "outputs": [
    {
     "name": "stdout",
     "output_type": "stream",
     "text": [
      "[(1, 2, 3), ('a', 'b', 'c'), (True, False), (1, 'a', True), (1, 'a', True), ['spart', 123], (1, 'a', True), ['spart', 123]]\n"
     ]
    }
   ],
   "source": [
    "## Task 3\n",
    "my_list.append((1,'a',True))\n",
    "\n",
    "my_list.append([\"spart\",123])\n",
    "print(my_list)"
   ]
  },
  {
   "cell_type": "code",
   "execution_count": 39,
   "id": "ab2466ae-65e5-4da9-8c0b-f78c1c3250cf",
   "metadata": {
    "tags": []
   },
   "outputs": [
    {
     "name": "stdout",
     "output_type": "stream",
     "text": [
      "dict_keys(['Fruit', 'Cost'])\n",
      "dict_values([('Apple', 'Banana', 'Mango', 'Guava'), (85, 54, 120, 70)])\n"
     ]
    }
   ],
   "source": [
    "## Task 4\n",
    "fruit = {'Fruit': (\"Apple\", \"Banana\", \"Mango\", \"Guava\"), 'Cost': (85, 54, 120, 70)}\n",
    "keys = fruit.keys()\n",
    "values = fruit.values()\n",
    "print(keys)\n",
    "print(values)"
   ]
  },
  {
   "cell_type": "code",
   "execution_count": 42,
   "id": "f18bd2ff-5784-407e-b28b-26af35a3300e",
   "metadata": {
    "tags": []
   },
   "outputs": [
    {
     "name": "stdout",
     "output_type": "stream",
     "text": [
      "{1, 'a'}\n"
     ]
    }
   ],
   "source": [
    "## Task 5\n",
    "my_set = { 1,1,\"a\",\"a\", True, True}\n",
    "print(my_set)"
   ]
  },
  {
   "cell_type": "code",
   "execution_count": null,
   "id": "ff34cb70-e23b-4cf0-afc2-0e990d9e5a35",
   "metadata": {},
   "outputs": [],
   "source": []
  }
 ],
 "metadata": {
  "kernelspec": {
   "display_name": "Python 3 (ipykernel)",
   "language": "python",
   "name": "python3"
  },
  "language_info": {
   "codemirror_mode": {
    "name": "ipython",
    "version": 3
   },
   "file_extension": ".py",
   "mimetype": "text/x-python",
   "name": "python",
   "nbconvert_exporter": "python",
   "pygments_lexer": "ipython3",
   "version": "3.11.5"
  }
 },
 "nbformat": 4,
 "nbformat_minor": 5
}
