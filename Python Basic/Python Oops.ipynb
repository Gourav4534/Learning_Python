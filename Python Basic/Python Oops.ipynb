{
 "cells": [
  {
   "cell_type": "markdown",
   "id": "a72f6e05-d326-49b9-870a-87fcc52760e5",
   "metadata": {},
   "source": [
    "## Assignment 1  \n",
    "\n",
    "Problem Statement:\n",
    "You work in XYZ Corporation as a Data Analyst. Your corporation has told you to\n",
    "work on Exception Handling.\n",
    "Tasks To Be Performed:\n",
    "1. With the help of try and inbuilt exception, display the exception.\n",
    "2. Take two user inputs and pass those input variables in a try block. If the\n",
    "user input is 0, then throw the ZeroDivisionError exception.\n",
    "3. Import math package and with the help of math package, print –\n",
    "math.exp(50000). Now use the inbuilt OverflowError exception on the\n",
    "math.exp(), and print the exception.\n",
    "4. Now install the ‘termcolor’ package in the anaconda prompt, and import\n",
    "that package to provide the colors to the print statement in Jupyter\n",
    "Notebook.\n",
    "5. Create your own exception with the help of class and functions\n",
    "\n",
    "##"
   ]
  },
  {
   "cell_type": "code",
   "execution_count": 2,
   "id": "44720f4e-3acc-4e78-be31-e512ba46b89c",
   "metadata": {
    "tags": []
   },
   "outputs": [
    {
     "name": "stdout",
     "output_type": "stream",
     "text": [
      "Exception: division by zero\n"
     ]
    }
   ],
   "source": [
    "## Task 1 \n",
    "try:\n",
    "    result =10/0\n",
    "except Exception as e:\n",
    "    print(\"Exception:\",e)"
   ]
  },
  {
   "cell_type": "code",
   "execution_count": 15,
   "id": "b1b48791-6851-437e-a2a6-63a1a2f87d65",
   "metadata": {
    "tags": []
   },
   "outputs": [
    {
     "name": "stdin",
     "output_type": "stream",
     "text": [
      "First Number:  8\n",
      "Second Number: 0\n"
     ]
    },
    {
     "name": "stdout",
     "output_type": "stream",
     "text": [
      "Exception : Cannot divide by Zero!\n"
     ]
    }
   ],
   "source": [
    "## Task 2\n",
    "try:\n",
    "    num1 = int(input(\"First Number: \"))\n",
    "    num2 = int(input(\"Second Number:\"))\n",
    "    if num2 == 0:\n",
    "        raise ZeroDivisionError(\"Cannot divide by Zero!\")\n",
    "    \n",
    "    result = num1/num2\n",
    "    print(result)\n",
    "except ZeroDivisionError as e:\n",
    "    print(\"Exception :\", e) \n",
    "except ValueError as e:\n",
    "    print(\"ValueError:\",e)\n",
    "    \n",
    "        \n",
    "        \n",
    "        \n",
    "                                "
   ]
  },
  {
   "cell_type": "code",
   "execution_count": 16,
   "id": "66a9023d-c52a-4145-9992-e1d09093fe3b",
   "metadata": {
    "tags": []
   },
   "outputs": [],
   "source": []
  },
  {
   "cell_type": "code",
   "execution_count": 18,
   "id": "d24ff5c6-604f-480a-844a-6ab3790a56ea",
   "metadata": {
    "tags": []
   },
   "outputs": [
    {
     "name": "stdout",
     "output_type": "stream",
     "text": [
      "OverflowError: math range error\n"
     ]
    }
   ],
   "source": [
    "## Task 3\n",
    "import math\n",
    "\n",
    "try:\n",
    "    result = math.exp(50000)\n",
    "except OverflowError as e:\n",
    "    print(\"OverflowError:\", e)"
   ]
  },
  {
   "cell_type": "code",
   "execution_count": 22,
   "id": "5c055a39-ff40-48ae-a19a-66581709a2fe",
   "metadata": {
    "tags": []
   },
   "outputs": [
    {
     "name": "stdout",
     "output_type": "stream",
     "text": [
      "Collecting termcolorNote: you may need to restart the kernel to use updated packages.\n",
      "\n",
      "  Obtaining dependency information for termcolor from https://files.pythonhosted.org/packages/d9/5f/8c716e47b3a50cbd7c146f45881e11d9414def768b7cd9c5e6650ec2a80a/termcolor-2.4.0-py3-none-any.whl.metadata\n",
      "  Downloading termcolor-2.4.0-py3-none-any.whl.metadata (6.1 kB)\n",
      "Downloading termcolor-2.4.0-py3-none-any.whl (7.7 kB)\n",
      "Installing collected packages: termcolor\n",
      "Successfully installed termcolor-2.4.0\n"
     ]
    }
   ],
   "source": [
    "## Task 4\n",
    "pip install termcolor"
   ]
  },
  {
   "cell_type": "code",
   "execution_count": 30,
   "id": "a0eea7e5-1b8d-4261-a49d-8bd4c6f9dfde",
   "metadata": {
    "tags": []
   },
   "outputs": [
    {
     "name": "stdout",
     "output_type": "stream",
     "text": [
      "\u001b[33mJai Shri Ram\u001b[0m\n"
     ]
    }
   ],
   "source": [
    "from termcolor import colored\n",
    "print(colored(\"Jai Shri Ram\", \"yellow\"))"
   ]
  },
  {
   "cell_type": "code",
   "execution_count": 31,
   "id": "23ba212a-1256-420d-8f77-11de69220a8a",
   "metadata": {
    "tags": []
   },
   "outputs": [
    {
     "name": "stdout",
     "output_type": "stream",
     "text": [
      "MyException: This is My Exception\n"
     ]
    }
   ],
   "source": [
    "## Task 5\n",
    "class MyException(Exception):\n",
    "    pass\n",
    "def function_exception():\n",
    "    raise MyException(\"This is My Exception\")\n",
    "    \n",
    "try:\n",
    "    function_exception()\n",
    "except MyException as e:\n",
    "    print(\"MyException:\", e)\n"
   ]
  },
  {
   "cell_type": "markdown",
   "id": "72d3a4d4-781b-43ad-9e79-4309ae367191",
   "metadata": {},
   "source": [
    "## Assignment 2\n",
    "You work in XYZ Corporation as a Data Analyst. Your corporation has told you to\n",
    "work on functions and classes.\n",
    "Tasks To Be Performed:\n",
    "1. Create a function named ‘factor’ that can only accept 1 argument. The\n",
    "function should return the factorial of that number.\n",
    "2. Create a function named ‘check_string’, the function should accept a string\n",
    "data from the user and the function should check if the user input contains\n",
    "the letter ‘s’ in it. If it contains the letter ‘s’ then print- ‘The string is\n",
    "containing the letter ‘s’’, if not then print- ‘The string doesn’t contain the\n",
    "letter ‘s’’.\n",
    "3. Create a class named ‘student’ and inside the class, create a function\n",
    "named ‘fun1’- this method should accept the user defined input and return\n",
    "that value:\n",
    "a. Create another method named- message() and that method should print\n",
    "the user defined input that we have defined in ‘fun1’.\n",
    "4. Create a lambda function that should double or multiply the number (that\n",
    "we will be passing in the lambda function) by 2. Store the lambda function\n",
    "in a variable named ‘double_num’.\n",
    "5. Take user input string and check whether that string is palindrome or not.\n",
    "\n",
    "##\n",
    "\n"
   ]
  },
  {
   "cell_type": "code",
   "execution_count": 37,
   "id": "7c39c998-c209-4f97-a9a0-5886ae468a1b",
   "metadata": {
    "tags": []
   },
   "outputs": [
    {
     "name": "stdout",
     "output_type": "stream",
     "text": [
      "Factorial of 7: 5040\n"
     ]
    }
   ],
   "source": [
    "## Task 1\n",
    "def factor(n):\n",
    "    if n == 0:\n",
    "        return 1\n",
    "    else:\n",
    "        return n* factor(n-1)\n",
    "    \n",
    "##check\n",
    "print(\"Factorial of 7:\", factor(7))"
   ]
  },
  {
   "cell_type": "code",
   "execution_count": 46,
   "id": "636ab3b8-0fe2-4b41-9898-f0f16e8d1074",
   "metadata": {
    "tags": []
   },
   "outputs": [
    {
     "name": "stdin",
     "output_type": "stream",
     "text": [
      "String: super\n"
     ]
    },
    {
     "name": "stdout",
     "output_type": "stream",
     "text": [
      "The string is containing the letter ‘s’\n"
     ]
    }
   ],
   "source": [
    "## Task 2\n",
    "def check_string(string):\n",
    "    if 's' in string:\n",
    "        print('The string is containing the letter ‘s’')\n",
    "    else:\n",
    "        print('The string doesn’t contain the letter ‘s’')\n",
    "\n",
    "# Check\n",
    "check_string(input(\"String:\" ))\n"
   ]
  },
  {
   "cell_type": "code",
   "execution_count": 50,
   "id": "7b82e175-2599-47ff-86c6-3373530e4775",
   "metadata": {
    "tags": []
   },
   "outputs": [
    {
     "name": "stdin",
     "output_type": "stream",
     "text": [
      "Enter a Value:  54\n"
     ]
    },
    {
     "name": "stdout",
     "output_type": "stream",
     "text": [
      "User defined input: 54\n"
     ]
    }
   ],
   "source": [
    "## Task 3\n",
    "class student:\n",
    "    def fun1(self, user_input):\n",
    "        self.user_input = user_input\n",
    "        return self.user_input\n",
    "    def message(self):\n",
    "        print(\"User defined input:\", self.user_input)\n",
    "        \n",
    "s = student()\n",
    "s.fun1(input(\"Enter a Value: \"))\n",
    "s.message()\n"
   ]
  },
  {
   "cell_type": "code",
   "execution_count": 51,
   "id": "f7ea4c17-8417-41ce-9135-d71d7eaacd69",
   "metadata": {
    "tags": []
   },
   "outputs": [
    {
     "name": "stdout",
     "output_type": "stream",
     "text": [
      "Double Value:  10\n"
     ]
    }
   ],
   "source": [
    "## Task 4\n",
    "double_num = lambda x: x*2\n",
    "\n",
    "##Check\n",
    "print(\"Double Value: \", double_num(5))"
   ]
  },
  {
   "cell_type": "code",
   "execution_count": 55,
   "id": "52a0a066-0c4c-436a-b2b1-51e256507f01",
   "metadata": {
    "tags": []
   },
   "outputs": [
    {
     "name": "stdin",
     "output_type": "stream",
     "text": [
      "Enter a String:  radar\n"
     ]
    },
    {
     "name": "stdout",
     "output_type": "stream",
     "text": [
      "This String is a palindrome\n"
     ]
    }
   ],
   "source": [
    "## Task 5\n",
    "user_input = input(\"Enter a String: \")\n",
    "if user_input == user_input[::-1]:\n",
    "    print(\"This String is a palindrome\")\n",
    "else:\n",
    "    print(\"This String is not a palindrome\")\n",
    "    \n",
    "    "
   ]
  },
  {
   "cell_type": "markdown",
   "id": "6c8dbaff-60a9-422a-ad62-ff4796b47485",
   "metadata": {},
   "source": [
    "## Assignment 3\n",
    "Problem Statement:\n",
    "You work in XYZ Corporation as a Python Developer. Your corporation has told\n",
    "you to work with the methods, and functions in Python.\n",
    "Tasks To Be Performed:\n",
    "1. Create a class named ‘Super’ and inside that class define a user-defined\n",
    "function named fun1\n",
    "a. Inside the ‘fun1’ function, pass the message “This is function 1 in the\n",
    "Super class.” in the print statement.\n",
    "2. Create another class named ‘Modified_Super’ and inherit this class from\n",
    "the Super class\n",
    "a. Inside the Modified_Super class, create a function named ‘fun1’ and\n",
    "pass the following message inside the print statement: ‘This is function 1 in\n",
    "the Modified Super class.’\n",
    "b. Create another user-defined function named ‘fun2’ and pass the\n",
    "message: ‘This is the 2 nd function from the Modified Super class’ in the\n",
    "print statement.\n",
    "c. After that, now create an object for the Modified_Super class and call the\n",
    "fun1().\n",
    "3. Create 2 methods named ‘Hello’. In the 1st Hello method, pass only one\n",
    "argument and pass this message: ‘This function is only having 1\n",
    "argument’. And in the 2nd Hello method, pass two arguments and pass\n",
    "this message: ‘This function is having 2 arguments’.\n",
    "a. Try to call both the methods and analyze the output of both the methods.\n",
    "4. Create a method named ‘Sum’ that can accept multiple user inputs. Now\n",
    "add those user defined input values using for loop and the function should\n",
    "return the addition of the numbers.\n",
    "5. Create a class named ‘Encapsulation’:\n",
    "a. Inside the class, first create a constructor. Inside the constructor,\n",
    "initialize originalValue variable as 10.\n",
    "b. After creating the constructor, define a function named ‘Value’ and this\n",
    "function should return the variable that we have initialized in the\n",
    "constructor.\n",
    "c. Now create a 2nd function named setValue, and pass an argument\n",
    "named ‘newValue’. The task of this function will be to replace the value of\n",
    "the originalValue variable by the value of newValue variable.\n",
    "\n",
    "##"
   ]
  },
  {
   "cell_type": "code",
   "execution_count": 56,
   "id": "cbb4c15f-870e-4656-bae0-d12794e5895c",
   "metadata": {
    "tags": []
   },
   "outputs": [
    {
     "name": "stdout",
     "output_type": "stream",
     "text": [
      "This is Function 1 in The Super class.\n"
     ]
    }
   ],
   "source": [
    "## Task 1 \n",
    "class Super:\n",
    "    def fun1 (self):\n",
    "        print(\"This is Function 1 in The Super class.\")\n",
    "\n",
    "s = Super()\n",
    "s.fun1()"
   ]
  },
  {
   "cell_type": "code",
   "execution_count": 67,
   "id": "1d873f1e-7658-4a47-a173-7b43e1974acf",
   "metadata": {
    "tags": []
   },
   "outputs": [
    {
     "name": "stdout",
     "output_type": "stream",
     "text": [
      "This is function 1 in the Modified Super class\n"
     ]
    }
   ],
   "source": [
    "## Task 2\n",
    "class Modified_Super(Super):\n",
    "    def fun1(self):\n",
    "        print(\"This is function 1 in the Modified Super class\")\n",
    "    def fun2(self):\n",
    "        print(\"This is function 2 in the Modified Super Class\")\n",
    "\n",
    "Ms = Modified_Super()\n",
    "Ms.fun1()"
   ]
  },
  {
   "cell_type": "code",
   "execution_count": 73,
   "id": "66390116-6bef-46bc-aab7-cae40f3250e7",
   "metadata": {
    "tags": []
   },
   "outputs": [
    {
     "name": "stdout",
     "output_type": "stream",
     "text": [
      "This function is only having 1 Argument\n",
      "This function is having 2 Arguments\n"
     ]
    }
   ],
   "source": [
    "## Task 3\n",
    "def hello1(Argument1):\n",
    "    print(\"This function is only having 1 Argument\")\n",
    "def hello2(Argument1, Argument2):\n",
    "    print(\"This function is having 2 Arguments\")\n",
    "\n",
    "hello1(1)\n",
    "hello2(1,2)\n"
   ]
  },
  {
   "cell_type": "code",
   "execution_count": 79,
   "id": "04e40de1-6985-4b8c-8104-3b134b112492",
   "metadata": {
    "tags": []
   },
   "outputs": [
    {
     "name": "stdout",
     "output_type": "stream",
     "text": [
      "Sum of Multiple Args: 28\n"
     ]
    }
   ],
   "source": [
    "## Task 4\n",
    "def Sum(*args):\n",
    "    total = 0\n",
    "    for num in args:\n",
    "        total += num\n",
    "    return total\n",
    "\n",
    "print(\"Sum of Multiple Args:\", Sum(1,2,3,4,5,6,7))"
   ]
  },
  {
   "cell_type": "code",
   "execution_count": 4,
   "id": "a565156c-4104-4da6-a196-28f0242e959b",
   "metadata": {
    "scrolled": true
   },
   "outputs": [
    {
     "name": "stdout",
     "output_type": "stream",
     "text": [
      "10\n",
      "20\n"
     ]
    }
   ],
   "source": [
    "## Task 5\n",
    "class Encapsulation:\n",
    "    def __init__(self):\n",
    "        self.originalvalue = 10\n",
    "        \n",
    "    def Value(self):\n",
    "        return self.originalvalue\n",
    "    \n",
    "    def setValue(self,newValue):\n",
    "        self.originalvalue = newValue\n",
    "## Create An Object\n",
    "enc = Encapsulation()\n",
    "print(enc.Value())\n",
    "enc.setValue(20)\n",
    "print(enc.Value())\n"
   ]
  },
  {
   "cell_type": "markdown",
   "id": "c85cd519",
   "metadata": {},
   "source": [
    "## Assignment 4\n",
    "Problem Statement:\n",
    "You work in XYZ Corporation as a Data Analyst. Your corporation has told you to\n",
    "work on importing various functions.\n",
    "Tasks To Be Performed:\n",
    "1. Create a Python file named Module:\n",
    "a. Inside the file, define 4 methods named – addition, subtraction,\n",
    "multiplication, and division.\n",
    "b. Each method should only accept 2 arguments and should return the\n",
    "result of operation performed in each method. For e.g., addition() should\n",
    "return the sum of two arguments.\n",
    "c. Save the Module file in .py format.\n",
    "2. Open a new python file and import the Module.py file\n",
    "a. Now call the 4 methods from the Module.py file, i.e., addition(),\n",
    "subtraction(), multiplication(), and division().\n",
    "3. From the Module file, import only the addition() and pass the arguments so\n",
    "that it can display the result from the method.\n",
    "4. From the Module file, import only the subtraction() and pass the arguments\n",
    "so that it can display the result from the method.\n",
    "5. From the Module file, import both the multiplication() and division() and\n",
    "pass the arguments so that it can display the result from the methods.\n",
    "\n",
    "##"
   ]
  },
  {
   "cell_type": "code",
   "execution_count": 24,
   "id": "da3c65b2",
   "metadata": {},
   "outputs": [],
   "source": [
    "## Task 1\n",
    "import module as m"
   ]
  },
  {
   "cell_type": "code",
   "execution_count": 27,
   "id": "86edafa2",
   "metadata": {},
   "outputs": [
    {
     "name": "stdout",
     "output_type": "stream",
     "text": [
      "10\n",
      "-3\n",
      "1.6\n",
      "45\n"
     ]
    }
   ],
   "source": [
    "print(m.Addition(4,6))\n",
    "print(m.Subtraction(9,12))\n",
    "print(m.Division(8,5))\n",
    "print(m.Multiplication(9,5))"
   ]
  },
  {
   "cell_type": "code",
   "execution_count": 29,
   "id": "5c7405e2",
   "metadata": {},
   "outputs": [
    {
     "data": {
      "text/plain": [
       "11"
      ]
     },
     "execution_count": 29,
     "metadata": {},
     "output_type": "execute_result"
    }
   ],
   "source": [
    "## Task 3\n",
    "from module import Addition\n",
    "Addition(4,7)"
   ]
  },
  {
   "cell_type": "code",
   "execution_count": 31,
   "id": "c676bc1f",
   "metadata": {},
   "outputs": [
    {
     "data": {
      "text/plain": [
       "3"
      ]
     },
     "execution_count": 31,
     "metadata": {},
     "output_type": "execute_result"
    }
   ],
   "source": [
    "## Task 4\n",
    "from module import Subtraction\n",
    "Subtraction(7,4)"
   ]
  },
  {
   "cell_type": "code",
   "execution_count": 33,
   "id": "3d2772b4",
   "metadata": {},
   "outputs": [
    {
     "name": "stdout",
     "output_type": "stream",
     "text": [
      "63\n",
      "2.25\n"
     ]
    }
   ],
   "source": [
    "## Task 4\n",
    "from module import (Division, Multiplication)\n",
    "print(Multiplication(7,9))\n",
    "print(Division(9,4))"
   ]
  },
  {
   "cell_type": "markdown",
   "id": "c3d8e124",
   "metadata": {},
   "source": [
    "## Assignment 5\n",
    "Problem Statement:\n",
    "You work in XYZ Corporation as a Data Analyst. Your corporation has told you to\n",
    "work with the inheritance of the classes.\n",
    "Tasks To Be Performed:\n",
    "1. Create a class named parent_Class and inside the class, initialize a global\n",
    "variable num as 10\n",
    "a. Create another class named child_Class and this class should be\n",
    "inherited from the parent class.\n",
    "b. Now create an object for the child_Class and with the help of\n",
    "child_Class object, display the value of ‘num’.\n",
    "2. Create three classes named A, B and C\n",
    "a. Inside the A class, create a constructor. Inside the constructor, initialize\n",
    "2 global variables name and age.\n",
    "b. After initializing the global variables inside the constructor, now create a\n",
    "function named ‘details’ and that function should return the ‘name’ variable.\n",
    "c. Inside the B class, create a constructor. Inside the constructor, initialize 2\n",
    "global variables name and id.\n",
    "d. After initializing the global variables inside the constructor, now create a\n",
    "function named ‘details’ and that function should return the ‘name’ variable.\n",
    "e. The C class should inherit from class A, and B. Inside the class C,\n",
    "create a constructor, and inside the constructor, call the constructor of\n",
    "class A.\n",
    "f. Now, create a method inside the class C, as get_details, and this function\n",
    "should return the value of name.\n",
    "g. Atlast, create an object of class C, and with the help of the object, call\n",
    "the get_details().\n",
    "3. Create a class named ‘Sub1’, inside the class, generate a user defined\n",
    "function named ‘first’ and inside the function, pass the following statement\n",
    "in the print()- ‘This is the first function from Sub 1 class’.\n",
    "a. Now create another class named ‘Sub2’, and inside the class, create a\n",
    "function named ‘second’, and pass the following message in the print()-\n",
    "‘This is the second function from the Sub 2 class’.\n",
    "b. After that, create another class named ‘Super’ and inside that class,\n",
    "create a method named ‘final’, and pass the below message in the print()-\n",
    "‘This is the final method from the super class’.\n",
    "c. Now, create an object for the Super class and call all the 3 user defined\n",
    "methods, i.e., first(), second(), and final().\n",
    "4. Create a class named ‘Parent’, and inside the class, create a function\n",
    "named ‘fun1’ and pass the following message in the print()- ‘This is the\n",
    "message from the fun1’.\n",
    "a. Now create a class named ‘Child1’ and inside the class, create a\n",
    "method named ‘fun2’ and pass the following message in the print()- ‘This is\n",
    "the message from the fun2’.\n",
    "b. After that, create another class named ‘Child2’ and inside the class,\n",
    "create a method named ‘fun3’ and pass the following message in the\n",
    "print()- ‘This is the message from the fun3’.\n",
    "c. Now, create an object of Child2 class and with the help of the object, call\n",
    "the ‘fun1’ method from the ‘Parent’ class.\n",
    "5. Create a class named ‘Parent’, and inside the class, create a function\n",
    "named ‘fun1’ and pass the following message in the print()- ‘This is the\n",
    "message from the fun1’.\n",
    "a. Now create a class named ‘Child’ and inside the class, create a method\n",
    "named ‘fun2’ and pass the following message in the print()- ‘This is the\n",
    "message from the fun2’.\n",
    "b. After that, create another class named ‘Hybrid’ and inside the class,\n",
    "create a method named ‘fun3’ and pass the following message in the\n",
    "print()- ‘This is the message from the fun3’.\n",
    "c. Now create an object of Hybrid class and with the help of the object, call\n",
    "the ‘fun1’, ‘fun2’ and ‘fun3’ methods.\n",
    "\n",
    "##"
   ]
  },
  {
   "cell_type": "code",
   "execution_count": 34,
   "id": "14257888",
   "metadata": {},
   "outputs": [
    {
     "name": "stdout",
     "output_type": "stream",
     "text": [
      "10\n"
     ]
    }
   ],
   "source": [
    "## Task 1\n",
    "class parent_class:\n",
    "    num = 10\n",
    "    \n",
    "class child_class(parent_class):\n",
    "    pass\n",
    "## created Object\n",
    "obj = child_class()\n",
    "print(obj.num)"
   ]
  },
  {
   "cell_type": "code",
   "execution_count": 39,
   "id": "30c5484d",
   "metadata": {},
   "outputs": [
    {
     "name": "stdout",
     "output_type": "stream",
     "text": [
      "Gourav\n"
     ]
    }
   ],
   "source": [
    "## Task 2\n",
    "class A:\n",
    "    def __init__(self, name, age):\n",
    "        self.name= name\n",
    "        self.age= age\n",
    "    def details(self):\n",
    "        return self.name\n",
    "class B:\n",
    "    def __init__(self,name,id):\n",
    "        self.name = name\n",
    "        self.id = id\n",
    "    def details(self):\n",
    "        return self.name\n",
    "class C(A,B):\n",
    "    def __init__(self, name, age, id):\n",
    "        A.__init__(self, name, age)\n",
    "        B.__init__(self, name, id)\n",
    "    def get_details(self):\n",
    "        return self.name\n",
    "    \n",
    "## create object\n",
    "obj = C(\"Gourav\", 25,125)\n",
    "print(obj.get_details())\n",
    "\n"
   ]
  },
  {
   "cell_type": "code",
   "execution_count": 22,
   "id": "e58654ad",
   "metadata": {},
   "outputs": [
    {
     "name": "stdout",
     "output_type": "stream",
     "text": [
      "This Is The First Function Form Sub 1 Class\n",
      "This Is The Second Function Form Sub 2 Class\n",
      "This is the final method from the super class\n"
     ]
    }
   ],
   "source": [
    "## Task 3\n",
    "class Sub1:\n",
    "    def first(self):\n",
    "        print(\"This Is The First Function Form Sub 1 Class\")\n",
    "class Sub2:\n",
    "    def second(self):\n",
    "        print(\"This Is The Second Function Form Sub 2 Class\")\n",
    "class Super(Sub1,Sub2):\n",
    "    def final(self):\n",
    "        print(\"This is the final method from the super class\")\n",
    "\n",
    "\n",
    "super_obj = Super()\n",
    "super_obj.first()  \n",
    "super_obj.second()  \n",
    "super_obj.final()\n",
    "\n",
    "\n",
    "    "
   ]
  },
  {
   "cell_type": "code",
   "execution_count": 24,
   "id": "2822ba9a",
   "metadata": {},
   "outputs": [
    {
     "name": "stdout",
     "output_type": "stream",
     "text": [
      "This is the message from the fun1\n"
     ]
    }
   ],
   "source": [
    "## Task 4\n",
    "class Parent:\n",
    "    def fun1(self):\n",
    "        print(\"This is the message from the fun1\")\n",
    "class child1(Parent):\n",
    "    def fun2(self):\n",
    "        print(\"This is the message from the fun2\")\n",
    "class child2(Parent):\n",
    "    def fun3(self):\n",
    "        print(\"This is the message from the fun3\")\n",
    "\n",
    "##Create Object\n",
    "obj =child2()\n",
    "obj.fun1()\n",
    "        "
   ]
  },
  {
   "cell_type": "code",
   "execution_count": 28,
   "id": "d2690ad8",
   "metadata": {},
   "outputs": [
    {
     "name": "stdout",
     "output_type": "stream",
     "text": [
      "This is the message from the fun1\n",
      "This is the message from the fun2\n",
      "This is the message from the fun3\n"
     ]
    }
   ],
   "source": [
    "## Task 5\n",
    "class Parent:\n",
    "    def fun1(self):\n",
    "        print(\"This is the message from the fun1\")\n",
    "class Child(Parent):\n",
    "    def fun2(self):\n",
    "        print(\"This is the message from the fun2\")\n",
    "class Hybrid(Child):\n",
    "    def fun3(self):\n",
    "        print(\"This is the message from the fun3\")\n",
    "\n",
    "## Created Object\n",
    "obj = Hybrid()\n",
    "obj.fun1()\n",
    "obj.fun2()\n",
    "obj.fun3()"
   ]
  },
  {
   "cell_type": "code",
   "execution_count": null,
   "id": "97081a5e",
   "metadata": {},
   "outputs": [],
   "source": []
  }
 ],
 "metadata": {
  "kernelspec": {
   "display_name": "Python 3 (ipykernel)",
   "language": "python",
   "name": "python3"
  },
  "language_info": {
   "codemirror_mode": {
    "name": "ipython",
    "version": 3
   },
   "file_extension": ".py",
   "mimetype": "text/x-python",
   "name": "python",
   "nbconvert_exporter": "python",
   "pygments_lexer": "ipython3",
   "version": "3.11.5"
  }
 },
 "nbformat": 4,
 "nbformat_minor": 5
}
